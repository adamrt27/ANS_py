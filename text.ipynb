{
 "cells": [
  {
   "cell_type": "code",
   "execution_count": 76,
   "metadata": {},
   "outputs": [],
   "source": [
    "def int_to_binary_array(n):\n",
    "    if n < 0:\n",
    "        raise ValueError(\"Only non-negative integers are supported\")\n",
    "    \n",
    "    # Convert the integer to binary string\n",
    "    binary_str = bin(n)[2:]  # Remove the '0b' prefix\n",
    "\n",
    "    # Convert the binary string to a list of integers\n",
    "    binary_array = [int(digit) for digit in binary_str]\n",
    "    \n",
    "    # if array is less than 8 bits, add 0s to the left\n",
    "    while len(binary_array) < 8:\n",
    "        binary_array.insert(0, 0)\n",
    "\n",
    "    return binary_array"
   ]
  },
  {
   "cell_type": "code",
   "execution_count": 106,
   "metadata": {},
   "outputs": [],
   "source": [
    "l_lol = [187, 174, 68, 2]\n",
    "l = []\n",
    "for i in range(len(l_lol)-1):\n",
    "    l.extend(int_to_binary_array(l_lol[i]))\n",
    "    \n",
    "l.extend(int_to_binary_array(l_lol[-1])[:4])"
   ]
  },
  {
   "cell_type": "code",
   "execution_count": 107,
   "metadata": {},
   "outputs": [],
   "source": [
    "l1 = [1, 0, 1, 1, 1, 0, 1, 1, 1, 0, 1, 0, 1, 1, 1, 0, 0, 1, 0, 0, 0, 1, 0, 0, 0, 0, 1, 0]"
   ]
  },
  {
   "cell_type": "code",
   "execution_count": 108,
   "metadata": {},
   "outputs": [
    {
     "name": "stdout",
     "output_type": "stream",
     "text": [
      "[1, 0, 1, 1, 1, 0, 1, 1, 1, 0, 1, 0, 1, 1, 1, 0, 0, 1, 0, 0, 0, 1, 0, 0, 0, 0, 0, 0]\n",
      "[1, 0, 1, 1, 1, 0, 1, 1, 1, 0, 1, 0, 1, 1, 1, 0, 0, 1, 0, 0, 0, 1, 0, 0, 0, 0, 1, 0]\n"
     ]
    },
    {
     "data": {
      "text/plain": [
       "(None, None)"
      ]
     },
     "execution_count": 108,
     "metadata": {},
     "output_type": "execute_result"
    }
   ],
   "source": [
    "print(l), print(l1)"
   ]
  },
  {
   "cell_type": "code",
   "execution_count": 102,
   "metadata": {},
   "outputs": [
    {
     "data": {
      "text/plain": [
       "False"
      ]
     },
     "execution_count": 102,
     "metadata": {},
     "output_type": "execute_result"
    }
   ],
   "source": [
    "l[:-3] == l1"
   ]
  },
  {
   "cell_type": "code",
   "execution_count": 103,
   "metadata": {},
   "outputs": [],
   "source": [
    "# compare l and l1 bitwise\n",
    "for i in range(len(l)):\n",
    "    if l[i] != l1[i]:\n",
    "        print(i, l[i], l1[i])"
   ]
  },
  {
   "cell_type": "code",
   "execution_count": 13,
   "metadata": {},
   "outputs": [
    {
     "name": "stdout",
     "output_type": "stream",
     "text": [
      "64\n"
     ]
    },
    {
     "data": {
      "text/plain": [
       "[5, 3, 4, 4, 1, 3, 3, 6, 3, 6, 5, 4, 5, 3, 6, 3]"
      ]
     },
     "execution_count": 13,
     "metadata": {},
     "output_type": "execute_result"
    }
   ],
   "source": [
    "# generate a random list of frequencies\n",
    "import tANS_py.Utils as utils\n",
    "\n",
    "freqs = utils.generate_random_list_target(16, 10, 64)\n",
    "\n",
    "print(sum(freqs))\n",
    "freqs"
   ]
  },
  {
   "cell_type": "code",
   "execution_count": null,
   "metadata": {},
   "outputs": [],
   "source": []
  }
 ],
 "metadata": {
  "kernelspec": {
   "display_name": "tANS_env",
   "language": "python",
   "name": "python3"
  },
  "language_info": {
   "codemirror_mode": {
    "name": "ipython",
    "version": 3
   },
   "file_extension": ".py",
   "mimetype": "text/x-python",
   "name": "python",
   "nbconvert_exporter": "python",
   "pygments_lexer": "ipython3",
   "version": "3.12.4"
  }
 },
 "nbformat": 4,
 "nbformat_minor": 2
}
