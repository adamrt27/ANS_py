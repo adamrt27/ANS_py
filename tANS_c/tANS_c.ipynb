{
 "cells": [
  {
   "cell_type": "code",
   "execution_count": 6,
   "metadata": {},
   "outputs": [],
   "source": [
    "from ctypes import *"
   ]
  },
  {
   "cell_type": "code",
   "execution_count": 7,
   "metadata": {},
   "outputs": [
    {
     "data": {
      "text/plain": [
       "-1"
      ]
     },
     "execution_count": 7,
     "metadata": {},
     "output_type": "execute_result"
    }
   ],
   "source": [
    "lib = CDLL(\"./tANS_c.so\")\n",
    "\n",
    "lib.connect()"
   ]
  },
  {
   "cell_type": "code",
   "execution_count": null,
   "metadata": {},
   "outputs": [],
   "source": [
    "lib."
   ]
  },
  {
   "cell_type": "code",
   "execution_count": 8,
   "metadata": {},
   "outputs": [],
   "source": [
    "# Define the Encoder structure in Python\n",
    "# class EncodeTable(ctypes.Structure):\n",
    "#     _fields_ = [\n",
    "#         (\"L\", ctypes.c_int),\n",
    "#         (\"s_list\", ctypes.POINTER(ctypes.c_uint8)),\n",
    "#         (\"L_s\", ctypes.POINTER(ctypes.c_uint8)),\n",
    "#         (\"table\", ctypes.POINTER(ctypes.c_int)),\n",
    "#         (\"n_sym\", ctypes.c_uint8),\n",
    "#         (\"k\", ctypes.POINTER(ctypes.c_uint8)),\n",
    "#         (\"nb\", ctypes.POINTER(ctypes.c_int)),\n",
    "#         (\"start\", ctypes.POINTER(ctypes.c_int))\n",
    "#     ]\n",
    "\n",
    "# class Encoder(ctypes.Structure):\n",
    "#     _fields_ = [\n",
    "#         (\"state\", ctypes.c_int),\n",
    "#         (\"bitstream\", ctypes.POINTER(ctypes.c_uint8)),\n",
    "#         (\"bitstream_capacity\", ctypes.c_long),\n",
    "#         (\"l_bitstream\", ctypes.c_long),\n",
    "#         (\"msg\", ctypes.POINTER(ctypes.c_uint8)),\n",
    "#         (\"l_msg\", ctypes.c_int),\n",
    "#         (\"ind_msg\", ctypes.c_int)\n",
    "#     ]\n",
    "\n",
    "# Define the coder structure in Python\n",
    "class Coder(Structure):\n",
    "    _fields_ = [\n",
    "        (\"L\", c_int),\n",
    "        (\"s_list\", POINTER(c_uint8)),\n",
    "        (\"L_s\", POINTER(c_uint8)),\n",
    "        (\"n_sym\", c_uint8),\n",
    "        # Define other fields as necessary\n",
    "    ]\n",
    "\n",
    "\n",
    "# Define the function prototype for encodeDecodePython\n",
    "lib.encodeDecodePython.argtypes = [c_int, POINTER(c_uint8), POINTER(c_uint8), c_uint8, POINTER(c_uint8), c_int]\n",
    "lib.encodeDecodePython.restype = c_int\n",
    "\n",
    "# Define the function prototype for encodeDecode\n",
    "lib.encodeDecode.argtypes = [POINTER(Coder), POINTER(c_uint8), c_int]\n",
    "lib.encodeDecode.restype = c_int\n",
    "\n",
    "# Define the function prototype for initCoder\n",
    "lib.initCoder.argtypes = [c_int, POINTER(c_uint8), POINTER(c_uint8), c_uint8]\n",
    "lib.initCoder.restype = POINTER(Coder)"
   ]
  },
  {
   "cell_type": "code",
   "execution_count": 9,
   "metadata": {},
   "outputs": [],
   "source": [
    "# Define the Python wrapper function\n",
    "def encode_decode_python(L, s_list, L_s, n_sym, msg):\n",
    "    s_list_array = (c_uint8 * len(s_list))(*s_list)\n",
    "    L_s_array = (c_uint8 * len(L_s))(*L_s)\n",
    "    msg_array = (c_uint8 * len(msg))(*msg)\n",
    "    res = lib.encodeDecodePython(L, s_list_array, L_s_array, n_sym, msg_array, len(msg))\n",
    "    return res\n",
    "\n",
    "# Wrapper function for initCoder\n",
    "def init_coder(L, s_list, L_s, n_sym):\n",
    "    s_list_array = (c_uint8 * len(s_list))(*s_list)\n",
    "    L_s_array = (c_uint8 * len(L_s))(*L_s)\n",
    "    coder_ptr = lib.initCoder(L, s_list_array, L_s_array, n_sym)\n",
    "    return coder_ptr\n",
    "\n",
    "# Wrapper function for encodeDecode\n",
    "def encode_decode(coder_ptr, msg):\n",
    "    msg_array = (c_uint8 * len(msg))(*msg)\n",
    "    res = lib.encodeDecode(coder_ptr, msg_array, len(msg))\n",
    "    return res"
   ]
  },
  {
   "cell_type": "code",
   "execution_count": 10,
   "metadata": {},
   "outputs": [],
   "source": [
    "L = 256 * 2\n",
    "s_list = [i for i in range(16)]\n",
    "L_s = [19, 4, 8, 33, 8, 18, 4, 10, 19, 8, 30, 4, 8, 38, 26, 19]\n",
    "L_s = [2**i for i in L_s]\n",
    "n_sym = 16\n",
    "msg = [0,3,2,3,2,1,2,3,4,7,3,1,2,3,4,5,6,7, 15, 14, 13, 12, 11, 10, 9, 8, 7, 6, 5, 4, 3, 2, 1, 0]"
   ]
  },
  {
   "cell_type": "code",
   "execution_count": 11,
   "metadata": {},
   "outputs": [
    {
     "ename": "",
     "evalue": "",
     "output_type": "error",
     "traceback": [
      "\u001b[1;31mThe Kernel crashed while executing code in the current cell or a previous cell. \n",
      "\u001b[1;31mPlease review the code in the cell(s) to identify a possible cause of the failure. \n",
      "\u001b[1;31mClick <a href='https://aka.ms/vscodeJupyterKernelCrash'>here</a> for more info. \n",
      "\u001b[1;31mView Jupyter <a href='command:jupyter.viewOutput'>log</a> for further details."
     ]
    }
   ],
   "source": [
    "# test the encodeDecodePython function\n",
    "res = encode_decode_python(L, s_list, L_s, n_sym, msg)\n",
    "print(res)"
   ]
  },
  {
   "cell_type": "code",
   "execution_count": 6,
   "metadata": {},
   "outputs": [],
   "source": [
    "# time the function\n",
    "import time\n",
    "\n",
    "n_iter = 100\n",
    "\n",
    "# Setting up the coder, then encoding and decoding (only tracks time of encoding and decoding)\n",
    "\n",
    "coder_ptr = init_coder(L, s_list, L_s, n_sym)\n",
    "\n",
    "# warm up\n",
    "for i in range(10):\n",
    "    result = encode_decode(coder_ptr, msg)\n",
    "\n",
    "start = time.time()\n",
    "\n",
    "for i in range(n_iter):\n",
    "    result = encode_decode(coder_ptr, msg)\n",
    "    \n",
    "end = time.time()\n",
    "print(\"Time no setup (microseconds):\", (end - start) * 1e6 / n_iter)\n",
    "\n",
    "# Setting up coder and encoding and decoding in one step (tracks time of all steps)\n",
    "start = time.time()\n",
    "\n",
    "for i in range(n_iter):\n",
    "    result = encode_decode_python(L, s_list, L_s, n_sym, msg)\n",
    "    \n",
    "end = time.time()\n",
    "\n",
    "print(\"Time w setup (microseconds):\", (end - start) * 1e6 / n_iter)\n",
    "result = encode_decode_python(L, s_list, L_s, n_sym, msg)\n",
    "print(\"Compression ratio:\", len(msg) * 4 / result)"
   ]
  },
  {
   "cell_type": "code",
   "execution_count": null,
   "metadata": {},
   "outputs": [],
   "source": []
  },
  {
   "cell_type": "code",
   "execution_count": null,
   "metadata": {},
   "outputs": [],
   "source": []
  }
 ],
 "metadata": {
  "kernelspec": {
   "display_name": "tANS_env",
   "language": "python",
   "name": "python3"
  },
  "language_info": {
   "codemirror_mode": {
    "name": "ipython",
    "version": 3
   },
   "file_extension": ".py",
   "mimetype": "text/x-python",
   "name": "python",
   "nbconvert_exporter": "python",
   "pygments_lexer": "ipython3",
   "version": "3.12.4"
  }
 },
 "nbformat": 4,
 "nbformat_minor": 2
}
