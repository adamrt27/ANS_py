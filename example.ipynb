{
 "cells": [
  {
   "cell_type": "markdown",
   "metadata": {},
   "source": [
    "# Example Workflow\n",
    "This notebook shows an example workflow using `tANS_py`."
   ]
  },
  {
   "cell_type": "markdown",
   "metadata": {},
   "source": [
    "## Using `Encoder` and `Decoder` Classes\n",
    "These are the low level objects used to encode and decode data. "
   ]
  },
  {
   "cell_type": "code",
   "execution_count": 2,
   "metadata": {},
   "outputs": [
    {
     "name": "stdout",
     "output_type": "stream",
     "text": [
      "Coding worked: True\n"
     ]
    }
   ],
   "source": [
    "# Testing code \n",
    "import tANS_py.Decoder\n",
    "import tANS_py.Encoder\n",
    "\n",
    "# Define the alphabet and the frequency of each symbol\n",
    "s = [\"A\",\"B\",\"C\"]\n",
    "freq = [6, 2, 24]\n",
    "\n",
    "# Create the encoder and decoder\n",
    "t = tANS_py.Decoder.DecodeTable(32, s, freq, fast = False)\n",
    "g = tANS_py.Encoder.Encoder(32, s,freq,t.symbol_spread)\n",
    "\n",
    "# Create message\n",
    "msg = \"CAACACCCCCCCCBCCCACCCACCCACCCBCC\"\n",
    "msg_temp = list(msg)\n",
    "\n",
    "# Encode message\n",
    "bit = g.encode(msg_temp)\n",
    "\n",
    "# Decode message\n",
    "out = t.decode(bit)\n",
    "out.reverse()\n",
    "print(\"Coding worked:\", \"\".join(out) == msg)"
   ]
  },
  {
   "cell_type": "markdown",
   "metadata": {},
   "source": [
    "## Using `Coder` Class\n",
    "This is a higher level object that simplifies encoding and decoding"
   ]
  },
  {
   "cell_type": "code",
   "execution_count": 14,
   "metadata": {},
   "outputs": [
    {
     "name": "stdout",
     "output_type": "stream",
     "text": [
      "Comp Ratio: 1.359817660857606\n"
     ]
    }
   ],
   "source": [
    "# importing the Coder class as well as the Utils module, which helps with generating random data for testing\n",
    "import tANS_py.Coder, tANS_py.Utils\n",
    "import numpy as np\n",
    "\n",
    "# Set up the alphabet\n",
    "s = [\"A\", \"B\", \"C\", \"D\", \"E\", \"F\", \"G\", \"H\", \"I\", \"J\", \"K\", \"L\", \"M\", \"N\", \"O\", \"P\", \"Q\", \"R\", \"S\", \"T\", \"U\", \"V\", \"W\", \"X\", \"Y\", \"Z\"]\n",
    "nbits = 5 # 5 bits per symbol as there are 26 symbols in the alphabet\n",
    "\n",
    "# Run this multiple times to see how it performs on average\n",
    "comp_ratios = []\n",
    "for i in range(50):\n",
    "    # Set up random frequencies\n",
    "    # This specifically generates a list of len(s) numbers randomly chosen between 1 and 100\n",
    "    freq = tANS_py.Utils.generate_random_list2(len(s), 100)\n",
    "\n",
    "    # Create the Coder object\n",
    "    c = tANS_py.Coder.Coder(sum(freq), s, freq, fast = False) # specifies fast = False to use slower, but more effecient spread function\n",
    "\n",
    "    # Create a message\n",
    "    # Specifically generates a random string using symbols from s with frequencies from freq\n",
    "    msg = tANS_py.Utils.generate_random_string(s, freq)\n",
    "\n",
    "    # Encode and decode the message and get the number of bits of the encoded message\n",
    "    # Note: you must pass in message as a list of symbols\n",
    "    out, bits = c.encode_decode(list(msg))\n",
    "\n",
    "    # Check if the decoding worked\n",
    "    if \"\".join(out) != msg:\n",
    "        # If the decoding failed, print a message\n",
    "        print(\"Coding failed\")\n",
    "    else:\n",
    "        # If the decoding worked, save the compression ratio\n",
    "        comp_ratios.append(len(msg) * nbits / bits)\n",
    "    \n",
    "print(\"Comp Ratio:\", np.mean(comp_ratios))"
   ]
  },
  {
   "cell_type": "code",
   "execution_count": null,
   "metadata": {},
   "outputs": [],
   "source": []
  }
 ],
 "metadata": {
  "kernelspec": {
   "display_name": "base",
   "language": "python",
   "name": "python3"
  },
  "language_info": {
   "codemirror_mode": {
    "name": "ipython",
    "version": 3
   },
   "file_extension": ".py",
   "mimetype": "text/x-python",
   "name": "python",
   "nbconvert_exporter": "python",
   "pygments_lexer": "ipython3",
   "version": "3.12.4"
  }
 },
 "nbformat": 4,
 "nbformat_minor": 2
}
